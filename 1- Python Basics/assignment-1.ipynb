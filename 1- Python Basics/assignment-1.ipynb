{
 "cells": [
  {
   "cell_type": "markdown",
   "id": "eb4a0851",
   "metadata": {},
   "source": [
    "# Assignment"
   ]
  },
  {
   "cell_type": "code",
   "execution_count": null,
   "id": "e929c9e9",
   "metadata": {},
   "outputs": [
    {
     "name": "stdout",
     "output_type": "stream",
     "text": [
      "-1 is negative\n"
     ]
    }
   ],
   "source": [
    "# Question 1 & 2\n",
    "user_input = int(input())\n",
    "if user_input > 0:\n",
    "    print(f\"{user_input} is positive\")\n",
    "else:\n",
    "    print(f\"{user_input} is negative\")"
   ]
  },
  {
   "cell_type": "code",
   "execution_count": 10,
   "id": "c1426afd",
   "metadata": {},
   "outputs": [
    {
     "name": "stdout",
     "output_type": "stream",
     "text": [
      "4 is positive.\n"
     ]
    }
   ],
   "source": [
    "# Question 3\n",
    "user_input = int(input())\n",
    "if user_input == 0:\n",
    "    print(f\"{user_input} is zero.\")\n",
    "elif user_input > 0:\n",
    "    print(f\"{user_input} is positive.\")\n",
    "else:\n",
    "    print(f\"{user_input} is negative\")\n",
    "    \n"
   ]
  },
  {
   "cell_type": "code",
   "execution_count": null,
   "id": "d3ec20b3",
   "metadata": {},
   "outputs": [
    {
     "name": "stdout",
     "output_type": "stream",
     "text": [
      "4 is even\n"
     ]
    }
   ],
   "source": [
    "# Question 4\n",
    "user_input = int(input())\n",
    "if user_input > 0:\n",
    "    if user_input % 2 == 0:\n",
    "        print(f\"{user_input} is positive & even\")\n",
    "    else:\n",
    "        print(f\"{user_input} is positive & odd\")\n",
    "else:\n",
    "    print(f\"{user_input} is negative\")"
   ]
  },
  {
   "cell_type": "code",
   "execution_count": 13,
   "id": "5ed3751c",
   "metadata": {},
   "outputs": [
    {
     "name": "stdout",
     "output_type": "stream",
     "text": [
      "1\n",
      "2\n",
      "3\n",
      "4\n",
      "5\n",
      "6\n",
      "7\n",
      "8\n",
      "9\n",
      "10\n"
     ]
    }
   ],
   "source": [
    "# Question 5 (for Loop)\n",
    "for i in range(1, 11):\n",
    "    print(i)"
   ]
  },
  {
   "cell_type": "code",
   "execution_count": null,
   "id": "0caa8bde",
   "metadata": {},
   "outputs": [
    {
     "name": "stdout",
     "output_type": "stream",
     "text": [
      "1\n",
      "2\n",
      "3\n",
      "4\n",
      "5\n",
      "6\n",
      "7\n",
      "8\n",
      "9\n",
      "10\n"
     ]
    }
   ],
   "source": [
    "# Question 6 (while loop)\n",
    "i = 1\n",
    "while i <= 10:\n",
    "    print(i)\n",
    "    i += 1"
   ]
  },
  {
   "cell_type": "code",
   "execution_count": 21,
   "id": "e16566f3",
   "metadata": {},
   "outputs": [
    {
     "name": "stdout",
     "output_type": "stream",
     "text": [
      "*****\n",
      "*****\n",
      "*****\n",
      "*****\n",
      "*****\n"
     ]
    }
   ],
   "source": [
    "# Question 7 (nested loops)\n",
    "for i in range(1, 6):\n",
    "    for j in range(1, 5):\n",
    "        print(\"*\", end=\"\")\n",
    "    print(\"*\")\n"
   ]
  },
  {
   "cell_type": "code",
   "execution_count": 3,
   "id": "43764208",
   "metadata": {},
   "outputs": [
    {
     "name": "stdout",
     "output_type": "stream",
     "text": [
      "4\n",
      "5\n",
      "6\n",
      "9\n",
      "0\n",
      "24\n"
     ]
    }
   ],
   "source": [
    "# Question 8\n",
    "output_sum = 0\n",
    "while True:\n",
    "    user_input = int(input())\n",
    "    print(user_input)\n",
    "    if user_input == 0:\n",
    "        break\n",
    "    output_sum += user_input\n",
    "print(output_sum)"
   ]
  },
  {
   "cell_type": "code",
   "execution_count": 4,
   "id": "c4c70fe1",
   "metadata": {},
   "outputs": [
    {
     "name": "stdout",
     "output_type": "stream",
     "text": [
      "1\n",
      "2\n",
      "3\n",
      "4\n",
      "6\n",
      "7\n",
      "8\n",
      "9\n",
      "10\n"
     ]
    }
   ],
   "source": [
    "# Question 9\n",
    "for i in range(1, 11):\n",
    "    if i == 5:\n",
    "        continue\n",
    "    print(i)"
   ]
  },
  {
   "cell_type": "code",
   "execution_count": 5,
   "id": "fdfc481b",
   "metadata": {},
   "outputs": [],
   "source": [
    "# Question 10\n",
    "def my_function():\n",
    "    pass"
   ]
  },
  {
   "cell_type": "code",
   "execution_count": 8,
   "id": "3eb9377d",
   "metadata": {},
   "outputs": [
    {
     "name": "stdout",
     "output_type": "stream",
     "text": [
      "2\n",
      "4\n",
      "6\n",
      "8\n"
     ]
    }
   ],
   "source": [
    "# Question 11\n",
    "user_input = int(input())\n",
    "for i in range(1, user_input + 1):\n",
    "    if i % 2 == 0:\n",
    "        print(i)\n",
    "        "
   ]
  },
  {
   "cell_type": "code",
   "execution_count": null,
   "id": "f9447545",
   "metadata": {},
   "outputs": [
    {
     "name": "stdout",
     "output_type": "stream",
     "text": [
      "120\n"
     ]
    }
   ],
   "source": [
    "# Question 12 (factorial)\n",
    "user_input = int(input())\n",
    "factorial = 1\n",
    "for i in range(1, user_input + 1):\n",
    "    factorial *= i\n",
    "print(factorial)"
   ]
  },
  {
   "cell_type": "code",
   "execution_count": null,
   "id": "5fa8a42e",
   "metadata": {},
   "outputs": [
    {
     "name": "stdout",
     "output_type": "stream",
     "text": [
      "3\n"
     ]
    }
   ],
   "source": [
    "# Question 13 (sum of digits)\n",
    "user_input = int(input())\n",
    "digit_sum = 0\n",
    "\n",
    "while user_input > 0:\n",
    "    digit = user_input % 10\n",
    "    digit_sum += digit\n",
    "    user_input //= 10\n",
    "print(digit_sum)"
   ]
  },
  {
   "cell_type": "code",
   "execution_count": 14,
   "id": "1b5a0ca6",
   "metadata": {},
   "outputs": [
    {
     "name": "stdout",
     "output_type": "stream",
     "text": [
      "11 is a prime number.\n"
     ]
    }
   ],
   "source": [
    "# Question 14 (prime number check)\n",
    "# Program to check if a number is prime\n",
    "\n",
    "# Get input from user\n",
    "num = int(input(\"Enter a number: \"))\n",
    "\n",
    "# Prime numbers are greater than 1\n",
    "if num > 1:\n",
    "    # Check for factors\n",
    "    for i in range(2, int(num ** 0.5) + 1):\n",
    "        if num % i == 0:\n",
    "            print(num, \"is not a prime number.\")\n",
    "            break\n",
    "    else:\n",
    "        print(num, \"is a prime number.\")\n",
    "else:\n",
    "    print(num, \"is not a prime number.\")\n"
   ]
  },
  {
   "cell_type": "code",
   "execution_count": 15,
   "id": "42d6b065",
   "metadata": {},
   "outputs": [
    {
     "name": "stdout",
     "output_type": "stream",
     "text": [
      "Fibonacci sequence:\n",
      "0 1 1 2 3 5 8 13 21 34 55 "
     ]
    }
   ],
   "source": [
    "# Question 15 (fibonacci)\n",
    "# Program to print first n Fibonacci numbers\n",
    "\n",
    "# Get input from user\n",
    "n = int(input(\"Enter the number of Fibonacci terms: \"))\n",
    "\n",
    "# Initialize first two terms\n",
    "a, b = 0, 1\n",
    "\n",
    "# Print Fibonacci sequence\n",
    "print(\"Fibonacci sequence:\")\n",
    "for _ in range(n):\n",
    "    print(a, end=\" \")\n",
    "    a, b = b, a + b\n"
   ]
  }
 ],
 "metadata": {
  "kernelspec": {
   "display_name": "Python 3",
   "language": "python",
   "name": "python3"
  },
  "language_info": {
   "codemirror_mode": {
    "name": "ipython",
    "version": 3
   },
   "file_extension": ".py",
   "mimetype": "text/x-python",
   "name": "python",
   "nbconvert_exporter": "python",
   "pygments_lexer": "ipython3",
   "version": "3.12.0"
  }
 },
 "nbformat": 4,
 "nbformat_minor": 5
}
