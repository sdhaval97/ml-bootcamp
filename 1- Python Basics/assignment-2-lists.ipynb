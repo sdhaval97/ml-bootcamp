{
 "cells": [
  {
   "cell_type": "markdown",
   "id": "db06b2cc",
   "metadata": {},
   "source": [
    "# Module 3: Data Structures Assignments\n",
    "## Lesson 3.1: Lists"
   ]
  },
  {
   "cell_type": "code",
   "execution_count": null,
   "id": "df2d517c",
   "metadata": {},
   "outputs": [
    {
     "name": "stdout",
     "output_type": "stream",
     "text": [
      "[1, 2, 3, 4, 5, 6, 7, 8, 9, 10, 11, 12, 13, 14, 15, 16, 17, 18, 19, 20]\n"
     ]
    }
   ],
   "source": [
    "# Question 1 (printing first 20 elements)\n",
    "first_20 = list(range(1, 21))\n",
    "print(first_20)"
   ]
  },
  {
   "cell_type": "code",
   "execution_count": 3,
   "id": "a9535712",
   "metadata": {},
   "outputs": [
    {
     "name": "stdout",
     "output_type": "stream",
     "text": [
      "1 11 20\n"
     ]
    }
   ],
   "source": [
    "# Question 2 (Accessing list elements)\n",
    "first_20 = list(range(1, 21))\n",
    "first = first_20[0]\n",
    "middle = first_20[len(first_20)//2]\n",
    "last = first_20[-1]\n",
    "\n",
    "print(first, middle, last)"
   ]
  },
  {
   "cell_type": "code",
   "execution_count": 6,
   "id": "01f99a21",
   "metadata": {},
   "outputs": [
    {
     "name": "stdout",
     "output_type": "stream",
     "text": [
      "[1, 2, 3, 4, 5]\n",
      "[16, 17, 18, 19, 20]\n",
      "[6, 7, 8, 9, 10, 11, 12, 13, 14, 15]\n"
     ]
    }
   ],
   "source": [
    "# Question 3\n",
    "first_20 = list(range(1, 21))\n",
    "first_5 = first_20[:5]\n",
    "last_5 = first_20[-5:]\n",
    "custom_list = first_20[5:15]\n",
    "print(first_5)\n",
    "print(last_5)\n",
    "print(custom_list)"
   ]
  },
  {
   "cell_type": "code",
   "execution_count": 7,
   "id": "a60601bb",
   "metadata": {},
   "outputs": [
    {
     "name": "stdout",
     "output_type": "stream",
     "text": [
      "[1, 4, 9, 16, 25, 36, 49, 64, 81, 100]\n"
     ]
    }
   ],
   "source": [
    "# Question 4 (list comprehension)\n",
    "first_10 = list(range(1, 11))\n",
    "squares = [i ** 2 for i in first_10]\n",
    "print(squares)"
   ]
  },
  {
   "cell_type": "code",
   "execution_count": 8,
   "id": "1bc70ad0",
   "metadata": {},
   "outputs": [
    {
     "name": "stdout",
     "output_type": "stream",
     "text": [
      "[2, 4, 6, 8, 10, 12, 14, 16, 18, 20]\n"
     ]
    }
   ],
   "source": [
    "# Question 5 (filtering lists)\n",
    "first_20 = list(range(1, 21))\n",
    "even_nums = [i for i in first_20 if i % 2 == 0]\n",
    "print(even_nums)"
   ]
  },
  {
   "cell_type": "code",
   "execution_count": 11,
   "id": "a275c44d",
   "metadata": {},
   "outputs": [
    {
     "name": "stdout",
     "output_type": "stream",
     "text": [
      "[14, 10, 2, 4, 6, 15, 7, 10, 15, 10, 7, 13, 4, 9, 5, 8, 11, 5, 4, 2]\n",
      "[2, 2, 4, 4, 4, 5, 5, 6, 7, 7, 8, 9, 10, 10, 10, 11, 13, 14, 15, 15]\n",
      "[15, 15, 14, 13, 11, 10, 10, 10, 9, 8, 7, 7, 6, 5, 5, 4, 4, 4, 2, 2]\n",
      "[2, 4, 5, 6, 7, 8, 9, 10, 11, 13, 14, 15]\n"
     ]
    }
   ],
   "source": [
    "# Question 6 (list methods)\n",
    "import random\n",
    "random_list = [random.randint(1, 15) for i in range(20)]\n",
    "print(random_list)\n",
    "random_list.sort()\n",
    "print(random_list)\n",
    "random_list.sort(reverse=True)\n",
    "print(random_list)\n",
    "unique_elements = list(set(random_list))\n",
    "print(unique_elements)"
   ]
  },
  {
   "cell_type": "code",
   "execution_count": 14,
   "id": "235089d9",
   "metadata": {},
   "outputs": [
    {
     "name": "stdout",
     "output_type": "stream",
     "text": [
      "[[100, 58, 19], [48, 7, 36], [53, 12, 99]]\n",
      "36\n"
     ]
    }
   ],
   "source": [
    "# Question 7 (nested list)\n",
    "\n",
    "import random\n",
    "nested_list = [[random.randint(1, 100) for i in range(3)], [random.randint(1, 100) for i in range(3)], [random.randint(1, 100) for i in range(3)]]\n",
    "print(nested_list)\n",
    "print(nested_list[1][2])"
   ]
  },
  {
   "cell_type": "code",
   "execution_count": 4,
   "id": "b9245cc9",
   "metadata": {},
   "outputs": [
    {
     "name": "stdout",
     "output_type": "stream",
     "text": [
      "Name: Alice, Score: 95\n",
      "Name: Bob, Score: 87\n",
      "Name: Charlie, Score: 92\n",
      "Name: Diana, Score: 98\n",
      "Name: Eva, Score: 85\n",
      "Name: Frank, Score: 91\n",
      "Name: Grace, Score: 89\n",
      "Name: Henry, Score: 94\n",
      "1. Name: Diana, Score: 98\n",
      "2. Name: Alice, Score: 95\n",
      "3. Name: Henry, Score: 94\n",
      "4. Name: Charlie, Score: 92\n",
      "5. Name: Frank, Score: 91\n",
      "6. Name: Grace, Score: 89\n",
      "7. Name: Bob, Score: 87\n",
      "8. Name: Eva, Score: 85\n"
     ]
    }
   ],
   "source": [
    "# Question 8 (list of dictionaries)\n",
    "\n",
    "# creating a list of dictionary of students\n",
    "students = [\n",
    "    {'name': 'Alice', 'score': 95},\n",
    "    {'name': 'Bob', 'score': 87},\n",
    "    {'name': 'Charlie', 'score': 92},\n",
    "    {'name': 'Diana', 'score': 98},\n",
    "    {'name': 'Eva', 'score': 85},\n",
    "    {'name': 'Frank', 'score': 91},\n",
    "    {'name': 'Grace', 'score': 89},\n",
    "    {'name': 'Henry', 'score': 94}\n",
    "]\n",
    "\n",
    "for student in students:\n",
    "    print(f\"Name: {student['name']}, Score: {student['score']}\")\n",
    "\n",
    "sorted_students = sorted(students, key=lambda x: x['score'], reverse=True)\n",
    "\n",
    "for i, student in enumerate(sorted_students, 1):\n",
    "    print(f\"{i}. Name: {student['name']}, Score: {student['score']}\")\n",
    "    "
   ]
  },
  {
   "cell_type": "code",
   "execution_count": null,
   "id": "bab9f9bb",
   "metadata": {},
   "outputs": [],
   "source": []
  }
 ],
 "metadata": {
  "kernelspec": {
   "display_name": "Python 3",
   "language": "python",
   "name": "python3"
  },
  "language_info": {
   "codemirror_mode": {
    "name": "ipython",
    "version": 3
   },
   "file_extension": ".py",
   "mimetype": "text/x-python",
   "name": "python",
   "nbconvert_exporter": "python",
   "pygments_lexer": "ipython3",
   "version": "3.12.0"
  }
 },
 "nbformat": 4,
 "nbformat_minor": 5
}
